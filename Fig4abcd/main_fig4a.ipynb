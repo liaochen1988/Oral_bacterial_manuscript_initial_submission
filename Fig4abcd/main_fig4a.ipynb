{
 "cells": [
  {
   "cell_type": "code",
   "execution_count": 1,
   "id": "d06c5087-118e-49ae-bcb2-89a55e06ed0b",
   "metadata": {},
   "outputs": [],
   "source": [
    "import pandas as pd\n",
    "import numpy as np\n",
    "import matplotlib.pyplot as plt\n",
    "import seaborn as sns\n",
    "from copy import deepcopy\n",
    "from sklearn.metrics import pairwise_distances\n",
    "from collections import Counter\n",
    "import scipy.cluster.hierarchy as sch\n",
    "from scipy.spatial.distance import squareform\n",
    "from scipy.stats import spearmanr,kendalltau\n",
    "from scipy.cluster.hierarchy import leaves_list\n",
    "import warnings\n",
    "warnings.filterwarnings('ignore')"
   ]
  },
  {
   "cell_type": "markdown",
   "id": "4a805257-4988-41b9-a37f-d21ca3b36274",
   "metadata": {},
   "source": [
    "# Load microbiome data and metadata"
   ]
  },
  {
   "cell_type": "code",
   "execution_count": 2,
   "id": "8fade003-35b8-4e5e-a3ef-e8d09d427a91",
   "metadata": {},
   "outputs": [],
   "source": [
    "# read sample meta data and eliminate samples without transplant day\n",
    "df_sample = pd.read_csv('tblASVsamples.csv', index_col=0)\n",
    "df_sample = df_sample[df_sample.DayRelativeToNearestHCT.notnull()]\n",
    "\n",
    "# read count data\n",
    "df_count_stacked = pd.read_csv('tblcounts_asv_melt.csv')\n",
    "df_count_stacked = pd.pivot_table(df_count_stacked, index='SampleID', columns='ASV', values='Count', aggfunc=np.sum).fillna(0)\n",
    "df_count_stacked = df_count_stacked[df_count_stacked.sum(axis=1)>=1000]\n",
    "df_count_stacked = df_count_stacked.loc[:, (df_count_stacked != 0).any(axis=0)]\n",
    "df_relab_asv =  df_count_stacked.div(df_count_stacked.sum(axis=1), axis=0)\n",
    "\n",
    "# find commmon samples\n",
    "common_samples = set(df_sample.index).intersection(set(df_relab_asv.index))\n",
    "df_sample = df_sample.loc[common_samples]\n",
    "df_relab_asv = df_relab_asv.loc[common_samples]\n",
    "\n",
    "# pairwise distance\n",
    "df_pdist_asv = pd.DataFrame(\n",
    "    pairwise_distances(df_relab_asv.values, metric=\"braycurtis\", n_jobs=-1),\n",
    "    index=df_relab_asv.index,\n",
    "    columns=df_relab_asv.index)\n",
    "\n",
    "# get oral bacterial fraction\n",
    "df_blast_100 = pd.read_csv(\"blast_HMPv35oral/blast_HMPv35oral_p100.txt\", sep=\"\\t\", comment=\"#\", header=None)\n",
    "df_blast_100.columns = ['query_accver', 'subject_accver', 'perc_identity', 'alignment_length', 'mismatches', 'gap_opens', 'qstart', 'qend', 'sstart', 'send', 'evalue', 'bitscore']#\n",
    "df_oral_total = df_relab_asv[set(df_blast_100.query_accver).intersection(df_relab_asv.columns)].sum(axis=1).to_frame()\n",
    "df_oral_total.columns = ['OralFrac_HMPv35oral']\n",
    "df_oral_total = df_oral_total.reset_index('SampleID').sort_values(['OralFrac_HMPv35oral','SampleID']).set_index('SampleID')\n",
    "\n",
    "# read taxonomy\n",
    "df_tax = pd.read_csv('tblASVtaxonomy_silva138_v4v5_filter.csv', index_col=0)\n",
    "df_tax = df_tax.loc[df_relab_asv.columns]\n",
    "df_tax.index.name = 'ASV'\n",
    "\n",
    "# find taxonomy color\n",
    "unique_color = df_tax[['TaxonomyColor','TaxonomyColorOrder']].drop_duplicates().sort_values(by='TaxonomyColorOrder').reset_index(drop=True)\n",
    "relab_asv_grouped = np.zeros((len(df_relab_asv.index),len(unique_color.index)))\n",
    "for k,o in enumerate(unique_color.TaxonomyColorOrder):\n",
    "    relab_asv_grouped[:,k] = df_relab_asv[set(df_relab_asv.columns).intersection(set(df_tax[df_tax.TaxonomyColorOrder==o].index))].sum(axis=1).values\n",
    "df_relab_asv_grouped = pd.DataFrame(relab_asv_grouped, index=df_relab_asv.index, columns=unique_color.TaxonomyColor)\n",
    "df_relab_asv_grouped = df_relab_asv_grouped.loc[df_oral_total.index]"
   ]
  },
  {
   "cell_type": "markdown",
   "id": "0224fb60-ba70-43cf-9913-23e640b7216f",
   "metadata": {},
   "source": [
    "# Fig. 4a"
   ]
  },
  {
   "cell_type": "code",
   "execution_count": 3,
   "id": "d128a415-cf7d-4fab-89b1-532afa46b84b",
   "metadata": {},
   "outputs": [],
   "source": [
    "%%capture\n",
    "\n",
    "fig, ax = plt.subplots(nrows=2, ncols=1, figsize=(30,3))\n",
    "\n",
    "# set n_samples_to_plot a small number for debugging\n",
    "n_samples_to_plot = int(1e10)\n",
    "total_sample_number = len(df_relab_asv_grouped)\n",
    "\n",
    "# find clusters\n",
    "Y = sch.linkage(squareform(df_pdist_asv.loc[df_oral_total.index,df_oral_total.index].values), method='average')\n",
    "\n",
    "# plot stacked bars of microbiota composition\n",
    "df_relab_asv_grouped_reordered = df_relab_asv_grouped.loc[df_oral_total.index].iloc[leaves_list(Y)]\n",
    "_ = df_relab_asv_grouped_reordered.iloc[0:np.min([n_samples_to_plot, total_sample_number])].plot.bar(\n",
    "    stacked=True, \n",
    "    color=df_relab_asv_grouped_reordered.columns, \n",
    "    legend=None, \n",
    "    width=1.0, \n",
    "    ax=ax[0], \n",
    "    ylim=[0,1]\n",
    ")\n",
    "_ = ax[0].set_ylabel('')\n",
    "_ = ax[0].set_yticks([])\n",
    "_ = ax[0].set_yticks([], minor=True)\n",
    "_ = ax[0].set_xlabel('')\n",
    "_ = ax[0].set_xticks([])\n",
    "_ = ax[0].set_xticks([], minor=True)\n",
    "\n",
    "# plot stacked bars of oral bacterial fraction\n",
    "_ = df_oral_total.iloc[leaves_list(Y)].iloc[0:np.min([n_samples_to_plot, total_sample_number])].OralFrac_HMPv35oral.plot.bar(\n",
    "    color=(0.4980392156862745, 0.4980392156862745, 0.4980392156862745), \n",
    "    legend=None, \n",
    "    width=1.0, \n",
    "    ax=ax[1], \n",
    "    ylim=[0,1]\n",
    ")\n",
    "_ = ax[1].set_ylabel('')\n",
    "_ = ax[1].set_yticks([])\n",
    "_ = ax[1].set_yticks([], minor=True)\n",
    "_ = ax[1].set_xlabel('')\n",
    "_ = ax[1].set_xticks([])\n",
    "_ = ax[1].set_xticks([], minor=True)\n",
    "\n",
    "plt.tight_layout()\n",
    "plt.savefig('fig4a.png', dpi=600, bbox_inches='tight')\n",
    "plt.close()"
   ]
  },
  {
   "cell_type": "code",
   "execution_count": null,
   "id": "fa8b6411-4a6f-45ce-9a1d-70b87e9a28a7",
   "metadata": {},
   "outputs": [],
   "source": []
  }
 ],
 "metadata": {
  "kernelspec": {
   "display_name": "Python 3 (ipykernel)",
   "language": "python",
   "name": "python3"
  },
  "language_info": {
   "codemirror_mode": {
    "name": "ipython",
    "version": 3
   },
   "file_extension": ".py",
   "mimetype": "text/x-python",
   "name": "python",
   "nbconvert_exporter": "python",
   "pygments_lexer": "ipython3",
   "version": "3.9.12"
  }
 },
 "nbformat": 4,
 "nbformat_minor": 5
}
